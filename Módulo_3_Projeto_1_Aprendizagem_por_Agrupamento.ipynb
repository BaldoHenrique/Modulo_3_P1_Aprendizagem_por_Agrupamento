{
  "nbformat": 4,
  "nbformat_minor": 0,
  "metadata": {
    "colab": {
      "name": "Módulo 3 - Projeto 1 - Aprendizagem por Agrupamento",
      "provenance": [],
      "collapsed_sections": []
    },
    "kernelspec": {
      "name": "python3",
      "display_name": "Python 3"
    },
    "language_info": {
      "name": "python"
    }
  },
  "cells": [
    {
      "cell_type": "markdown",
      "source": [
        "#**Projeto 1**"
      ],
      "metadata": {
        "id": "-gCZJ9m3zaxk"
      }
    },
    {
      "cell_type": "markdown",
      "source": [
        "**Projeto 1 - IBM - RH - Análise de desempenho e atritos de funcionários**"
      ],
      "metadata": {
        "id": "viD9Ih8rzewb"
      }
    },
    {
      "cell_type": "markdown",
      "source": [
        "* Entrega:\n",
        "* O projeto deve ser entregue até a terça-feira da 2ª semana de aula, envie o link do GitHub ou HTML na atividade no Moodle.\n",
        "* O prazo máximo é quarta-feira da 2ª semana de aula, valendo 20% a menos da nota."
      ],
      "metadata": {
        "id": "Nk4HhjDpzoJn"
      }
    },
    {
      "cell_type": "markdown",
      "source": [
        "* Dados do Certificado\n",
        "  - Linguagem: Python\n",
        "  - Tecnologias: Pandas, Numpy, Seaborn, Matplotlib e Sklearn\n",
        "  -  Carga horária: 20 horas"
      ],
      "metadata": {
        "id": "f5rVUA4vzukP"
      }
    },
    {
      "cell_type": "markdown",
      "source": [
        "* IBM HR Analytics Employee Attrition & Performance - Kaggle\n",
        "  * Este conjunto de dados foi criado pela equipe de cientistas de dados da IBM com o objetivo de ser usado de maneira educacional. Iremos criar uma variável chamada de turnover (rotatividade) para ser usada como variável dependente. Esta variável demonstra que o funcionário poderá sair da empresa."
      ],
      "metadata": {
        "id": "72OSWs_Zz8Np"
      }
    },
    {
      "cell_type": "markdown",
      "source": [
        "* Os principais pontos que serão avaliados:\n",
        "  - Levantamento de hipóteses\n",
        "  - Manipulação de dados e criação de gráficos simples com o Pandas\n",
        "  - Criar um modelo de classificação"
      ],
      "metadata": {
        "id": "8ppF8kdu0EBH"
      }
    },
    {
      "cell_type": "code",
      "execution_count": null,
      "metadata": {
        "id": "VOlm4ieMq-4x"
      },
      "outputs": [],
      "source": [
        "import numpy as np\n",
        "import pandas as pd\n",
        "\n",
        "import seaborn as sns\n",
        "import matplotlib.pyplot as plt\n",
        "\n",
        "from sklearn.model_selection import train_test_split\n",
        "from sklearn.tree import DecisionTreeClassifier\n",
        "from sklearn.tree import plot_tree\n",
        "from sklearn.ensemble import RandomForestClassifier\n",
        "from sklearn.preprocessing import StandardScaler\n",
        "\n",
        "from sklearn.metrics import accuracy_score, precision_score,recall_score"
      ]
    },
    {
      "cell_type": "markdown",
      "source": [
        "#Preparação do ambiente\n",
        "Vamos fazer o download do dataset em questão, aplicar ele a uma variável e analisar os dados que iremos trabalhar neste projeto"
      ],
      "metadata": {
        "id": "YoLbME9zTgzx"
      }
    },
    {
      "cell_type": "code",
      "source": [
        "dados = pd.read_csv('Employee-Attrition.csv')"
      ],
      "metadata": {
        "id": "c-y3iDgKsECv"
      },
      "execution_count": null,
      "outputs": []
    },
    {
      "cell_type": "code",
      "source": [
        "dados.shape"
      ],
      "metadata": {
        "colab": {
          "base_uri": "https://localhost:8080/"
        },
        "id": "rT6MqdwpvM8b",
        "outputId": "570fa159-af8a-4de0-c228-b21284ebeb44"
      },
      "execution_count": null,
      "outputs": [
        {
          "output_type": "execute_result",
          "data": {
            "text/plain": [
              "(1470, 35)"
            ]
          },
          "metadata": {},
          "execution_count": 8
        }
      ]
    },
    {
      "cell_type": "code",
      "source": [
        "dados.head(5)"
      ],
      "metadata": {
        "colab": {
          "base_uri": "https://localhost:8080/",
          "height": 369
        },
        "id": "IIAZ_mmDtWgZ",
        "outputId": "a14637a9-7ca6-4f44-9c00-dabd514c3944"
      },
      "execution_count": null,
      "outputs": [
        {
          "output_type": "execute_result",
          "data": {
            "text/plain": [
              "   Age Attrition     BusinessTravel  DailyRate              Department  \\\n",
              "0   41       Yes      Travel_Rarely       1102                   Sales   \n",
              "1   49        No  Travel_Frequently        279  Research & Development   \n",
              "2   37       Yes      Travel_Rarely       1373  Research & Development   \n",
              "3   33        No  Travel_Frequently       1392  Research & Development   \n",
              "4   27        No      Travel_Rarely        591  Research & Development   \n",
              "\n",
              "   DistanceFromHome  Education EducationField  EmployeeCount  EmployeeNumber  \\\n",
              "0                 1          2  Life Sciences              1               1   \n",
              "1                 8          1  Life Sciences              1               2   \n",
              "2                 2          2          Other              1               4   \n",
              "3                 3          4  Life Sciences              1               5   \n",
              "4                 2          1        Medical              1               7   \n",
              "\n",
              "   ...  RelationshipSatisfaction StandardHours  StockOptionLevel  \\\n",
              "0  ...                         1            80                 0   \n",
              "1  ...                         4            80                 1   \n",
              "2  ...                         2            80                 0   \n",
              "3  ...                         3            80                 0   \n",
              "4  ...                         4            80                 1   \n",
              "\n",
              "   TotalWorkingYears  TrainingTimesLastYear WorkLifeBalance  YearsAtCompany  \\\n",
              "0                  8                      0               1               6   \n",
              "1                 10                      3               3              10   \n",
              "2                  7                      3               3               0   \n",
              "3                  8                      3               3               8   \n",
              "4                  6                      3               3               2   \n",
              "\n",
              "  YearsInCurrentRole  YearsSinceLastPromotion  YearsWithCurrManager  \n",
              "0                  4                        0                     5  \n",
              "1                  7                        1                     7  \n",
              "2                  0                        0                     0  \n",
              "3                  7                        3                     0  \n",
              "4                  2                        2                     2  \n",
              "\n",
              "[5 rows x 35 columns]"
            ],
            "text/html": [
              "\n",
              "  <div id=\"df-5ad905f3-a8ab-49e3-b398-ada76d7105ff\">\n",
              "    <div class=\"colab-df-container\">\n",
              "      <div>\n",
              "<style scoped>\n",
              "    .dataframe tbody tr th:only-of-type {\n",
              "        vertical-align: middle;\n",
              "    }\n",
              "\n",
              "    .dataframe tbody tr th {\n",
              "        vertical-align: top;\n",
              "    }\n",
              "\n",
              "    .dataframe thead th {\n",
              "        text-align: right;\n",
              "    }\n",
              "</style>\n",
              "<table border=\"1\" class=\"dataframe\">\n",
              "  <thead>\n",
              "    <tr style=\"text-align: right;\">\n",
              "      <th></th>\n",
              "      <th>Age</th>\n",
              "      <th>Attrition</th>\n",
              "      <th>BusinessTravel</th>\n",
              "      <th>DailyRate</th>\n",
              "      <th>Department</th>\n",
              "      <th>DistanceFromHome</th>\n",
              "      <th>Education</th>\n",
              "      <th>EducationField</th>\n",
              "      <th>EmployeeCount</th>\n",
              "      <th>EmployeeNumber</th>\n",
              "      <th>...</th>\n",
              "      <th>RelationshipSatisfaction</th>\n",
              "      <th>StandardHours</th>\n",
              "      <th>StockOptionLevel</th>\n",
              "      <th>TotalWorkingYears</th>\n",
              "      <th>TrainingTimesLastYear</th>\n",
              "      <th>WorkLifeBalance</th>\n",
              "      <th>YearsAtCompany</th>\n",
              "      <th>YearsInCurrentRole</th>\n",
              "      <th>YearsSinceLastPromotion</th>\n",
              "      <th>YearsWithCurrManager</th>\n",
              "    </tr>\n",
              "  </thead>\n",
              "  <tbody>\n",
              "    <tr>\n",
              "      <th>0</th>\n",
              "      <td>41</td>\n",
              "      <td>Yes</td>\n",
              "      <td>Travel_Rarely</td>\n",
              "      <td>1102</td>\n",
              "      <td>Sales</td>\n",
              "      <td>1</td>\n",
              "      <td>2</td>\n",
              "      <td>Life Sciences</td>\n",
              "      <td>1</td>\n",
              "      <td>1</td>\n",
              "      <td>...</td>\n",
              "      <td>1</td>\n",
              "      <td>80</td>\n",
              "      <td>0</td>\n",
              "      <td>8</td>\n",
              "      <td>0</td>\n",
              "      <td>1</td>\n",
              "      <td>6</td>\n",
              "      <td>4</td>\n",
              "      <td>0</td>\n",
              "      <td>5</td>\n",
              "    </tr>\n",
              "    <tr>\n",
              "      <th>1</th>\n",
              "      <td>49</td>\n",
              "      <td>No</td>\n",
              "      <td>Travel_Frequently</td>\n",
              "      <td>279</td>\n",
              "      <td>Research &amp; Development</td>\n",
              "      <td>8</td>\n",
              "      <td>1</td>\n",
              "      <td>Life Sciences</td>\n",
              "      <td>1</td>\n",
              "      <td>2</td>\n",
              "      <td>...</td>\n",
              "      <td>4</td>\n",
              "      <td>80</td>\n",
              "      <td>1</td>\n",
              "      <td>10</td>\n",
              "      <td>3</td>\n",
              "      <td>3</td>\n",
              "      <td>10</td>\n",
              "      <td>7</td>\n",
              "      <td>1</td>\n",
              "      <td>7</td>\n",
              "    </tr>\n",
              "    <tr>\n",
              "      <th>2</th>\n",
              "      <td>37</td>\n",
              "      <td>Yes</td>\n",
              "      <td>Travel_Rarely</td>\n",
              "      <td>1373</td>\n",
              "      <td>Research &amp; Development</td>\n",
              "      <td>2</td>\n",
              "      <td>2</td>\n",
              "      <td>Other</td>\n",
              "      <td>1</td>\n",
              "      <td>4</td>\n",
              "      <td>...</td>\n",
              "      <td>2</td>\n",
              "      <td>80</td>\n",
              "      <td>0</td>\n",
              "      <td>7</td>\n",
              "      <td>3</td>\n",
              "      <td>3</td>\n",
              "      <td>0</td>\n",
              "      <td>0</td>\n",
              "      <td>0</td>\n",
              "      <td>0</td>\n",
              "    </tr>\n",
              "    <tr>\n",
              "      <th>3</th>\n",
              "      <td>33</td>\n",
              "      <td>No</td>\n",
              "      <td>Travel_Frequently</td>\n",
              "      <td>1392</td>\n",
              "      <td>Research &amp; Development</td>\n",
              "      <td>3</td>\n",
              "      <td>4</td>\n",
              "      <td>Life Sciences</td>\n",
              "      <td>1</td>\n",
              "      <td>5</td>\n",
              "      <td>...</td>\n",
              "      <td>3</td>\n",
              "      <td>80</td>\n",
              "      <td>0</td>\n",
              "      <td>8</td>\n",
              "      <td>3</td>\n",
              "      <td>3</td>\n",
              "      <td>8</td>\n",
              "      <td>7</td>\n",
              "      <td>3</td>\n",
              "      <td>0</td>\n",
              "    </tr>\n",
              "    <tr>\n",
              "      <th>4</th>\n",
              "      <td>27</td>\n",
              "      <td>No</td>\n",
              "      <td>Travel_Rarely</td>\n",
              "      <td>591</td>\n",
              "      <td>Research &amp; Development</td>\n",
              "      <td>2</td>\n",
              "      <td>1</td>\n",
              "      <td>Medical</td>\n",
              "      <td>1</td>\n",
              "      <td>7</td>\n",
              "      <td>...</td>\n",
              "      <td>4</td>\n",
              "      <td>80</td>\n",
              "      <td>1</td>\n",
              "      <td>6</td>\n",
              "      <td>3</td>\n",
              "      <td>3</td>\n",
              "      <td>2</td>\n",
              "      <td>2</td>\n",
              "      <td>2</td>\n",
              "      <td>2</td>\n",
              "    </tr>\n",
              "  </tbody>\n",
              "</table>\n",
              "<p>5 rows × 35 columns</p>\n",
              "</div>\n",
              "      <button class=\"colab-df-convert\" onclick=\"convertToInteractive('df-5ad905f3-a8ab-49e3-b398-ada76d7105ff')\"\n",
              "              title=\"Convert this dataframe to an interactive table.\"\n",
              "              style=\"display:none;\">\n",
              "        \n",
              "  <svg xmlns=\"http://www.w3.org/2000/svg\" height=\"24px\"viewBox=\"0 0 24 24\"\n",
              "       width=\"24px\">\n",
              "    <path d=\"M0 0h24v24H0V0z\" fill=\"none\"/>\n",
              "    <path d=\"M18.56 5.44l.94 2.06.94-2.06 2.06-.94-2.06-.94-.94-2.06-.94 2.06-2.06.94zm-11 1L8.5 8.5l.94-2.06 2.06-.94-2.06-.94L8.5 2.5l-.94 2.06-2.06.94zm10 10l.94 2.06.94-2.06 2.06-.94-2.06-.94-.94-2.06-.94 2.06-2.06.94z\"/><path d=\"M17.41 7.96l-1.37-1.37c-.4-.4-.92-.59-1.43-.59-.52 0-1.04.2-1.43.59L10.3 9.45l-7.72 7.72c-.78.78-.78 2.05 0 2.83L4 21.41c.39.39.9.59 1.41.59.51 0 1.02-.2 1.41-.59l7.78-7.78 2.81-2.81c.8-.78.8-2.07 0-2.86zM5.41 20L4 18.59l7.72-7.72 1.47 1.35L5.41 20z\"/>\n",
              "  </svg>\n",
              "      </button>\n",
              "      \n",
              "  <style>\n",
              "    .colab-df-container {\n",
              "      display:flex;\n",
              "      flex-wrap:wrap;\n",
              "      gap: 12px;\n",
              "    }\n",
              "\n",
              "    .colab-df-convert {\n",
              "      background-color: #E8F0FE;\n",
              "      border: none;\n",
              "      border-radius: 50%;\n",
              "      cursor: pointer;\n",
              "      display: none;\n",
              "      fill: #1967D2;\n",
              "      height: 32px;\n",
              "      padding: 0 0 0 0;\n",
              "      width: 32px;\n",
              "    }\n",
              "\n",
              "    .colab-df-convert:hover {\n",
              "      background-color: #E2EBFA;\n",
              "      box-shadow: 0px 1px 2px rgba(60, 64, 67, 0.3), 0px 1px 3px 1px rgba(60, 64, 67, 0.15);\n",
              "      fill: #174EA6;\n",
              "    }\n",
              "\n",
              "    [theme=dark] .colab-df-convert {\n",
              "      background-color: #3B4455;\n",
              "      fill: #D2E3FC;\n",
              "    }\n",
              "\n",
              "    [theme=dark] .colab-df-convert:hover {\n",
              "      background-color: #434B5C;\n",
              "      box-shadow: 0px 1px 3px 1px rgba(0, 0, 0, 0.15);\n",
              "      filter: drop-shadow(0px 1px 2px rgba(0, 0, 0, 0.3));\n",
              "      fill: #FFFFFF;\n",
              "    }\n",
              "  </style>\n",
              "\n",
              "      <script>\n",
              "        const buttonEl =\n",
              "          document.querySelector('#df-5ad905f3-a8ab-49e3-b398-ada76d7105ff button.colab-df-convert');\n",
              "        buttonEl.style.display =\n",
              "          google.colab.kernel.accessAllowed ? 'block' : 'none';\n",
              "\n",
              "        async function convertToInteractive(key) {\n",
              "          const element = document.querySelector('#df-5ad905f3-a8ab-49e3-b398-ada76d7105ff');\n",
              "          const dataTable =\n",
              "            await google.colab.kernel.invokeFunction('convertToInteractive',\n",
              "                                                     [key], {});\n",
              "          if (!dataTable) return;\n",
              "\n",
              "          const docLinkHtml = 'Like what you see? Visit the ' +\n",
              "            '<a target=\"_blank\" href=https://colab.research.google.com/notebooks/data_table.ipynb>data table notebook</a>'\n",
              "            + ' to learn more about interactive tables.';\n",
              "          element.innerHTML = '';\n",
              "          dataTable['output_type'] = 'display_data';\n",
              "          await google.colab.output.renderOutput(dataTable, element);\n",
              "          const docLink = document.createElement('div');\n",
              "          docLink.innerHTML = docLinkHtml;\n",
              "          element.appendChild(docLink);\n",
              "        }\n",
              "      </script>\n",
              "    </div>\n",
              "  </div>\n",
              "  "
            ]
          },
          "metadata": {},
          "execution_count": 9
        }
      ]
    },
    {
      "cell_type": "code",
      "source": [
        "dados['turnover'] = dados['Attrition'].map({'Yes':1, 'No': 0})"
      ],
      "metadata": {
        "id": "FzhYd1LZv3v8"
      },
      "execution_count": null,
      "outputs": []
    },
    {
      "cell_type": "code",
      "source": [
        "dados.isnull().any()"
      ],
      "metadata": {
        "colab": {
          "base_uri": "https://localhost:8080/"
        },
        "id": "RZRr0X2X1T0B",
        "outputId": "57644d41-957f-4aa3-c61b-69d0cb5926e9"
      },
      "execution_count": null,
      "outputs": [
        {
          "output_type": "execute_result",
          "data": {
            "text/plain": [
              "Age                         False\n",
              "Attrition                   False\n",
              "BusinessTravel              False\n",
              "DailyRate                   False\n",
              "Department                  False\n",
              "DistanceFromHome            False\n",
              "Education                   False\n",
              "EducationField              False\n",
              "EmployeeCount               False\n",
              "EmployeeNumber              False\n",
              "EnvironmentSatisfaction     False\n",
              "Gender                      False\n",
              "HourlyRate                  False\n",
              "JobInvolvement              False\n",
              "JobLevel                    False\n",
              "JobRole                     False\n",
              "JobSatisfaction             False\n",
              "MaritalStatus               False\n",
              "MonthlyIncome               False\n",
              "MonthlyRate                 False\n",
              "NumCompaniesWorked          False\n",
              "Over18                      False\n",
              "OverTime                    False\n",
              "PercentSalaryHike           False\n",
              "PerformanceRating           False\n",
              "RelationshipSatisfaction    False\n",
              "StandardHours               False\n",
              "StockOptionLevel            False\n",
              "TotalWorkingYears           False\n",
              "TrainingTimesLastYear       False\n",
              "WorkLifeBalance             False\n",
              "YearsAtCompany              False\n",
              "YearsInCurrentRole          False\n",
              "YearsSinceLastPromotion     False\n",
              "YearsWithCurrManager        False\n",
              "turnover                    False\n",
              "dtype: bool"
            ]
          },
          "metadata": {},
          "execution_count": 11
        }
      ]
    },
    {
      "cell_type": "code",
      "source": [
        "dados.info()"
      ],
      "metadata": {
        "colab": {
          "base_uri": "https://localhost:8080/"
        },
        "id": "D4vaad8x2Fhl",
        "outputId": "f94eb52a-ec77-4071-90a6-57c330ee0a8b"
      },
      "execution_count": null,
      "outputs": [
        {
          "output_type": "stream",
          "name": "stdout",
          "text": [
            "<class 'pandas.core.frame.DataFrame'>\n",
            "RangeIndex: 1470 entries, 0 to 1469\n",
            "Data columns (total 36 columns):\n",
            " #   Column                    Non-Null Count  Dtype \n",
            "---  ------                    --------------  ----- \n",
            " 0   Age                       1470 non-null   int64 \n",
            " 1   Attrition                 1470 non-null   object\n",
            " 2   BusinessTravel            1470 non-null   object\n",
            " 3   DailyRate                 1470 non-null   int64 \n",
            " 4   Department                1470 non-null   object\n",
            " 5   DistanceFromHome          1470 non-null   int64 \n",
            " 6   Education                 1470 non-null   int64 \n",
            " 7   EducationField            1470 non-null   object\n",
            " 8   EmployeeCount             1470 non-null   int64 \n",
            " 9   EmployeeNumber            1470 non-null   int64 \n",
            " 10  EnvironmentSatisfaction   1470 non-null   int64 \n",
            " 11  Gender                    1470 non-null   object\n",
            " 12  HourlyRate                1470 non-null   int64 \n",
            " 13  JobInvolvement            1470 non-null   int64 \n",
            " 14  JobLevel                  1470 non-null   int64 \n",
            " 15  JobRole                   1470 non-null   object\n",
            " 16  JobSatisfaction           1470 non-null   int64 \n",
            " 17  MaritalStatus             1470 non-null   object\n",
            " 18  MonthlyIncome             1470 non-null   int64 \n",
            " 19  MonthlyRate               1470 non-null   int64 \n",
            " 20  NumCompaniesWorked        1470 non-null   int64 \n",
            " 21  Over18                    1470 non-null   object\n",
            " 22  OverTime                  1470 non-null   object\n",
            " 23  PercentSalaryHike         1470 non-null   int64 \n",
            " 24  PerformanceRating         1470 non-null   int64 \n",
            " 25  RelationshipSatisfaction  1470 non-null   int64 \n",
            " 26  StandardHours             1470 non-null   int64 \n",
            " 27  StockOptionLevel          1470 non-null   int64 \n",
            " 28  TotalWorkingYears         1470 non-null   int64 \n",
            " 29  TrainingTimesLastYear     1470 non-null   int64 \n",
            " 30  WorkLifeBalance           1470 non-null   int64 \n",
            " 31  YearsAtCompany            1470 non-null   int64 \n",
            " 32  YearsInCurrentRole        1470 non-null   int64 \n",
            " 33  YearsSinceLastPromotion   1470 non-null   int64 \n",
            " 34  YearsWithCurrManager      1470 non-null   int64 \n",
            " 35  turnover                  1470 non-null   int64 \n",
            "dtypes: int64(27), object(9)\n",
            "memory usage: 413.6+ KB\n"
          ]
        }
      ]
    },
    {
      "cell_type": "markdown",
      "source": [
        "- Em uma breve introdução, podemos ver que se trata de um dataset com 34 variáveis e um target, a variável alvo, o qual demonstra se o funcionário poderá ou não sair da empresa.\n",
        "- Não foi constatado nenhum valor nulo em nossa base de dados e também podemos ver que temos variáveis de classificação e variáveis numéricas, teremos que trabalhar em cima destes dados para poder gerar um modelo."
      ],
      "metadata": {
        "id": "_x6tAphsTzK4"
      }
    },
    {
      "cell_type": "markdown",
      "source": [
        "##Tratando os dados"
      ],
      "metadata": {
        "id": "fUw7E-pQuVPM"
      }
    },
    {
      "cell_type": "markdown",
      "source": [
        "- Como visto logo acima, foi constatado que temos variáveis categóricas em nossa base, então vamos olhar elas mais de perto, verificar a necessidade de transformar em variáveis Dummies.\n",
        "- As variáveis Dummies tem a função de transformar variáveis categóricas em variáveis numéricas, cada categoria é transforada e uma coluna, e neste caso quando aquele funcionário se encaixar em determidada categoria será aplicado o valor \"1\", e quando não, o valor \"0\". "
      ],
      "metadata": {
        "id": "TxGDWr-501_-"
      }
    },
    {
      "cell_type": "code",
      "source": [
        "def info_objects(coluna_dados):\n",
        "  print(coluna_dados + \": \")\n",
        "  print(dados[coluna_dados].unique())\n",
        "  print(dados[coluna_dados].describe())"
      ],
      "metadata": {
        "id": "bbQcAIvtujM_"
      },
      "execution_count": null,
      "outputs": []
    },
    {
      "cell_type": "code",
      "source": [
        "#Tranforma variávies em Dummies\n",
        "def tranf_getdummies(coluna_dados):\n",
        "  var_getdummies = dados[coluna_dados]\n",
        "  var_getdummies  = pd.get_dummies(var_getdummies)\n",
        "  for i in range(len(dados[coluna_dados].unique())):\n",
        "    dados[dados[coluna_dados].unique()[i]] =  var_getdummies[dados[coluna_dados].unique()[i]]"
      ],
      "metadata": {
        "id": "zeBJ7JPhrkdI"
      },
      "execution_count": null,
      "outputs": []
    },
    {
      "cell_type": "markdown",
      "source": [
        "**BusinessTravel**"
      ],
      "metadata": {
        "id": "2MJZ8AkKuZaJ"
      }
    },
    {
      "cell_type": "code",
      "source": [
        "info_objects('BusinessTravel')"
      ],
      "metadata": {
        "colab": {
          "base_uri": "https://localhost:8080/"
        },
        "id": "h-m8skExzXe8",
        "outputId": "c20d0523-96c3-4aeb-b7a6-34a3f47b699d"
      },
      "execution_count": null,
      "outputs": [
        {
          "output_type": "stream",
          "name": "stdout",
          "text": [
            "BusinessTravel: \n",
            "['Travel_Rarely' 'Travel_Frequently' 'Non-Travel']\n",
            "count              1470\n",
            "unique                3\n",
            "top       Travel_Rarely\n",
            "freq               1043\n",
            "Name: BusinessTravel, dtype: object\n"
          ]
        }
      ]
    },
    {
      "cell_type": "code",
      "source": [
        "tranf_getdummies('BusinessTravel')"
      ],
      "metadata": {
        "id": "J6EerBMrx00G"
      },
      "execution_count": null,
      "outputs": []
    },
    {
      "cell_type": "markdown",
      "source": [
        "Department"
      ],
      "metadata": {
        "id": "jHAEt9rguc17"
      }
    },
    {
      "cell_type": "code",
      "source": [
        "info_objects('Department')"
      ],
      "metadata": {
        "colab": {
          "base_uri": "https://localhost:8080/"
        },
        "id": "sZwnaxxPz0LG",
        "outputId": "9dd1104a-1758-4125-d084-920fbb6795a1"
      },
      "execution_count": null,
      "outputs": [
        {
          "output_type": "stream",
          "name": "stdout",
          "text": [
            "Department: \n",
            "['Sales' 'Research & Development' 'Human Resources']\n",
            "count                       1470\n",
            "unique                         3\n",
            "top       Research & Development\n",
            "freq                         961\n",
            "Name: Department, dtype: object\n"
          ]
        }
      ]
    },
    {
      "cell_type": "code",
      "source": [
        "tranf_getdummies('Department')"
      ],
      "metadata": {
        "id": "_Mx0P4ioz2lP"
      },
      "execution_count": null,
      "outputs": []
    },
    {
      "cell_type": "markdown",
      "source": [
        "EducationField"
      ],
      "metadata": {
        "id": "qSKxHafrwQPf"
      }
    },
    {
      "cell_type": "code",
      "source": [
        "info_objects('EducationField')"
      ],
      "metadata": {
        "colab": {
          "base_uri": "https://localhost:8080/"
        },
        "id": "V-9MnChe0FQZ",
        "outputId": "3db7570c-69a4-4944-e881-80a1bb505d77"
      },
      "execution_count": null,
      "outputs": [
        {
          "output_type": "stream",
          "name": "stdout",
          "text": [
            "EducationField: \n",
            "['Life Sciences' 'Other' 'Medical' 'Marketing' 'Technical Degree'\n",
            " 'Human Resources']\n",
            "count              1470\n",
            "unique                6\n",
            "top       Life Sciences\n",
            "freq                606\n",
            "Name: EducationField, dtype: object\n"
          ]
        }
      ]
    },
    {
      "cell_type": "code",
      "source": [
        "tranf_getdummies('EducationField')"
      ],
      "metadata": {
        "id": "lidukPKK0Hba"
      },
      "execution_count": null,
      "outputs": []
    },
    {
      "cell_type": "markdown",
      "source": [
        "Gender"
      ],
      "metadata": {
        "id": "_1KWPNaN0WyE"
      }
    },
    {
      "cell_type": "code",
      "source": [
        "info_objects('Gender')"
      ],
      "metadata": {
        "colab": {
          "base_uri": "https://localhost:8080/"
        },
        "id": "2hIf-YU30ZOE",
        "outputId": "77c37411-867c-450b-abea-1a11cfa5ac06"
      },
      "execution_count": null,
      "outputs": [
        {
          "output_type": "stream",
          "name": "stdout",
          "text": [
            "Gender: \n",
            "['Female' 'Male']\n",
            "count     1470\n",
            "unique       2\n",
            "top       Male\n",
            "freq       882\n",
            "Name: Gender, dtype: object\n"
          ]
        }
      ]
    },
    {
      "cell_type": "code",
      "source": [
        "tranf_getdummies('Gender')"
      ],
      "metadata": {
        "id": "A1i-dNCP0dRQ"
      },
      "execution_count": null,
      "outputs": []
    },
    {
      "cell_type": "markdown",
      "source": [
        "JobRole"
      ],
      "metadata": {
        "id": "4NFdCVx61JDF"
      }
    },
    {
      "cell_type": "code",
      "source": [
        "info_objects('JobRole')"
      ],
      "metadata": {
        "colab": {
          "base_uri": "https://localhost:8080/"
        },
        "id": "JgKG93Ld1KEc",
        "outputId": "d6fb5357-0ba6-4e0b-f5c2-45c44a2b5f9d"
      },
      "execution_count": null,
      "outputs": [
        {
          "output_type": "stream",
          "name": "stdout",
          "text": [
            "JobRole: \n",
            "['Sales Executive' 'Research Scientist' 'Laboratory Technician'\n",
            " 'Manufacturing Director' 'Healthcare Representative' 'Manager'\n",
            " 'Sales Representative' 'Research Director' 'Human Resources']\n",
            "count                1470\n",
            "unique                  9\n",
            "top       Sales Executive\n",
            "freq                  326\n",
            "Name: JobRole, dtype: object\n"
          ]
        }
      ]
    },
    {
      "cell_type": "code",
      "source": [
        "tranf_getdummies('JobRole')"
      ],
      "metadata": {
        "id": "DVNM-5kx1PhV"
      },
      "execution_count": null,
      "outputs": []
    },
    {
      "cell_type": "markdown",
      "source": [
        "MaritalStatus"
      ],
      "metadata": {
        "id": "76U142fd1cb0"
      }
    },
    {
      "cell_type": "code",
      "source": [
        "info_objects('MaritalStatus')"
      ],
      "metadata": {
        "colab": {
          "base_uri": "https://localhost:8080/"
        },
        "id": "hExycAQI1dvG",
        "outputId": "f4a62177-4c97-42ac-d1c8-01e4ae6f4a5f"
      },
      "execution_count": null,
      "outputs": [
        {
          "output_type": "stream",
          "name": "stdout",
          "text": [
            "MaritalStatus: \n",
            "['Single' 'Married' 'Divorced']\n",
            "count        1470\n",
            "unique          3\n",
            "top       Married\n",
            "freq          673\n",
            "Name: MaritalStatus, dtype: object\n"
          ]
        }
      ]
    },
    {
      "cell_type": "code",
      "source": [
        "tranf_getdummies('MaritalStatus')"
      ],
      "metadata": {
        "id": "Cc5QEXdd1g1P"
      },
      "execution_count": null,
      "outputs": []
    },
    {
      "cell_type": "markdown",
      "source": [
        "Over18"
      ],
      "metadata": {
        "id": "x3kBYl_O1mOR"
      }
    },
    {
      "cell_type": "code",
      "source": [
        "info_objects('Over18')"
      ],
      "metadata": {
        "colab": {
          "base_uri": "https://localhost:8080/"
        },
        "id": "o0Uw4Ow71m7j",
        "outputId": "c6ea13ec-6b9c-4882-8f38-f0ba8daf8a97"
      },
      "execution_count": null,
      "outputs": [
        {
          "output_type": "stream",
          "name": "stdout",
          "text": [
            "Over18: \n",
            "['Y']\n",
            "count     1470\n",
            "unique       1\n",
            "top          Y\n",
            "freq      1470\n",
            "Name: Over18, dtype: object\n"
          ]
        }
      ]
    },
    {
      "cell_type": "markdown",
      "source": [
        "Esta variável não faz sentido mantermos em nosso dataset, a coluna tem apenas um valor."
      ],
      "metadata": {
        "id": "wkR8ZGjO1xW6"
      }
    },
    {
      "cell_type": "code",
      "source": [
        "dados = dados.drop(['Over18'], axis=1)"
      ],
      "metadata": {
        "id": "TXWYpwEy13nB"
      },
      "execution_count": null,
      "outputs": []
    },
    {
      "cell_type": "markdown",
      "source": [
        "OverTime"
      ],
      "metadata": {
        "id": "ZLVLWth92CbI"
      }
    },
    {
      "cell_type": "code",
      "source": [
        "info_objects('OverTime')"
      ],
      "metadata": {
        "colab": {
          "base_uri": "https://localhost:8080/"
        },
        "id": "VSCpZa2h2Dtz",
        "outputId": "bb48193a-12d2-480a-82d9-755162394bb0"
      },
      "execution_count": null,
      "outputs": [
        {
          "output_type": "stream",
          "name": "stdout",
          "text": [
            "OverTime: \n",
            "['Yes' 'No']\n",
            "count     1470\n",
            "unique       2\n",
            "top         No\n",
            "freq      1054\n",
            "Name: OverTime, dtype: object\n"
          ]
        }
      ]
    },
    {
      "cell_type": "code",
      "source": [
        "tranf_getdummies('OverTime')"
      ],
      "metadata": {
        "id": "XaNOqwgf2JlI"
      },
      "execution_count": null,
      "outputs": []
    },
    {
      "cell_type": "code",
      "source": [
        "dados.head()"
      ],
      "metadata": {
        "colab": {
          "base_uri": "https://localhost:8080/",
          "height": 386
        },
        "id": "8WavGMpLyH5y",
        "outputId": "15690f0d-04cd-4aa2-85d5-a2bd0b72ec36"
      },
      "execution_count": null,
      "outputs": [
        {
          "output_type": "execute_result",
          "data": {
            "text/plain": [
              "   Age Attrition     BusinessTravel  DailyRate              Department  \\\n",
              "0   41       Yes      Travel_Rarely       1102                   Sales   \n",
              "1   49        No  Travel_Frequently        279  Research & Development   \n",
              "2   37       Yes      Travel_Rarely       1373  Research & Development   \n",
              "3   33        No  Travel_Frequently       1392  Research & Development   \n",
              "4   27        No      Travel_Rarely        591  Research & Development   \n",
              "\n",
              "   DistanceFromHome  Education EducationField  EmployeeCount  EmployeeNumber  \\\n",
              "0                 1          2  Life Sciences              1               1   \n",
              "1                 8          1  Life Sciences              1               2   \n",
              "2                 2          2          Other              1               4   \n",
              "3                 3          4  Life Sciences              1               5   \n",
              "4                 2          1        Medical              1               7   \n",
              "\n",
              "   ...  Manufacturing Director Healthcare Representative  Manager  \\\n",
              "0  ...                       0                         0        0   \n",
              "1  ...                       0                         0        0   \n",
              "2  ...                       0                         0        0   \n",
              "3  ...                       0                         0        0   \n",
              "4  ...                       0                         0        0   \n",
              "\n",
              "   Sales Representative  Research Director Single  Married Divorced  Yes  No  \n",
              "0                     0                  0      1        0        0    1   0  \n",
              "1                     0                  0      0        1        0    0   1  \n",
              "2                     0                  0      1        0        0    1   0  \n",
              "3                     0                  0      0        1        0    1   0  \n",
              "4                     0                  0      0        1        0    0   1  \n",
              "\n",
              "[5 rows x 61 columns]"
            ],
            "text/html": [
              "\n",
              "  <div id=\"df-a37fdd3f-f2f4-47da-bb6c-279dfb507cde\">\n",
              "    <div class=\"colab-df-container\">\n",
              "      <div>\n",
              "<style scoped>\n",
              "    .dataframe tbody tr th:only-of-type {\n",
              "        vertical-align: middle;\n",
              "    }\n",
              "\n",
              "    .dataframe tbody tr th {\n",
              "        vertical-align: top;\n",
              "    }\n",
              "\n",
              "    .dataframe thead th {\n",
              "        text-align: right;\n",
              "    }\n",
              "</style>\n",
              "<table border=\"1\" class=\"dataframe\">\n",
              "  <thead>\n",
              "    <tr style=\"text-align: right;\">\n",
              "      <th></th>\n",
              "      <th>Age</th>\n",
              "      <th>Attrition</th>\n",
              "      <th>BusinessTravel</th>\n",
              "      <th>DailyRate</th>\n",
              "      <th>Department</th>\n",
              "      <th>DistanceFromHome</th>\n",
              "      <th>Education</th>\n",
              "      <th>EducationField</th>\n",
              "      <th>EmployeeCount</th>\n",
              "      <th>EmployeeNumber</th>\n",
              "      <th>...</th>\n",
              "      <th>Manufacturing Director</th>\n",
              "      <th>Healthcare Representative</th>\n",
              "      <th>Manager</th>\n",
              "      <th>Sales Representative</th>\n",
              "      <th>Research Director</th>\n",
              "      <th>Single</th>\n",
              "      <th>Married</th>\n",
              "      <th>Divorced</th>\n",
              "      <th>Yes</th>\n",
              "      <th>No</th>\n",
              "    </tr>\n",
              "  </thead>\n",
              "  <tbody>\n",
              "    <tr>\n",
              "      <th>0</th>\n",
              "      <td>41</td>\n",
              "      <td>Yes</td>\n",
              "      <td>Travel_Rarely</td>\n",
              "      <td>1102</td>\n",
              "      <td>Sales</td>\n",
              "      <td>1</td>\n",
              "      <td>2</td>\n",
              "      <td>Life Sciences</td>\n",
              "      <td>1</td>\n",
              "      <td>1</td>\n",
              "      <td>...</td>\n",
              "      <td>0</td>\n",
              "      <td>0</td>\n",
              "      <td>0</td>\n",
              "      <td>0</td>\n",
              "      <td>0</td>\n",
              "      <td>1</td>\n",
              "      <td>0</td>\n",
              "      <td>0</td>\n",
              "      <td>1</td>\n",
              "      <td>0</td>\n",
              "    </tr>\n",
              "    <tr>\n",
              "      <th>1</th>\n",
              "      <td>49</td>\n",
              "      <td>No</td>\n",
              "      <td>Travel_Frequently</td>\n",
              "      <td>279</td>\n",
              "      <td>Research &amp; Development</td>\n",
              "      <td>8</td>\n",
              "      <td>1</td>\n",
              "      <td>Life Sciences</td>\n",
              "      <td>1</td>\n",
              "      <td>2</td>\n",
              "      <td>...</td>\n",
              "      <td>0</td>\n",
              "      <td>0</td>\n",
              "      <td>0</td>\n",
              "      <td>0</td>\n",
              "      <td>0</td>\n",
              "      <td>0</td>\n",
              "      <td>1</td>\n",
              "      <td>0</td>\n",
              "      <td>0</td>\n",
              "      <td>1</td>\n",
              "    </tr>\n",
              "    <tr>\n",
              "      <th>2</th>\n",
              "      <td>37</td>\n",
              "      <td>Yes</td>\n",
              "      <td>Travel_Rarely</td>\n",
              "      <td>1373</td>\n",
              "      <td>Research &amp; Development</td>\n",
              "      <td>2</td>\n",
              "      <td>2</td>\n",
              "      <td>Other</td>\n",
              "      <td>1</td>\n",
              "      <td>4</td>\n",
              "      <td>...</td>\n",
              "      <td>0</td>\n",
              "      <td>0</td>\n",
              "      <td>0</td>\n",
              "      <td>0</td>\n",
              "      <td>0</td>\n",
              "      <td>1</td>\n",
              "      <td>0</td>\n",
              "      <td>0</td>\n",
              "      <td>1</td>\n",
              "      <td>0</td>\n",
              "    </tr>\n",
              "    <tr>\n",
              "      <th>3</th>\n",
              "      <td>33</td>\n",
              "      <td>No</td>\n",
              "      <td>Travel_Frequently</td>\n",
              "      <td>1392</td>\n",
              "      <td>Research &amp; Development</td>\n",
              "      <td>3</td>\n",
              "      <td>4</td>\n",
              "      <td>Life Sciences</td>\n",
              "      <td>1</td>\n",
              "      <td>5</td>\n",
              "      <td>...</td>\n",
              "      <td>0</td>\n",
              "      <td>0</td>\n",
              "      <td>0</td>\n",
              "      <td>0</td>\n",
              "      <td>0</td>\n",
              "      <td>0</td>\n",
              "      <td>1</td>\n",
              "      <td>0</td>\n",
              "      <td>1</td>\n",
              "      <td>0</td>\n",
              "    </tr>\n",
              "    <tr>\n",
              "      <th>4</th>\n",
              "      <td>27</td>\n",
              "      <td>No</td>\n",
              "      <td>Travel_Rarely</td>\n",
              "      <td>591</td>\n",
              "      <td>Research &amp; Development</td>\n",
              "      <td>2</td>\n",
              "      <td>1</td>\n",
              "      <td>Medical</td>\n",
              "      <td>1</td>\n",
              "      <td>7</td>\n",
              "      <td>...</td>\n",
              "      <td>0</td>\n",
              "      <td>0</td>\n",
              "      <td>0</td>\n",
              "      <td>0</td>\n",
              "      <td>0</td>\n",
              "      <td>0</td>\n",
              "      <td>1</td>\n",
              "      <td>0</td>\n",
              "      <td>0</td>\n",
              "      <td>1</td>\n",
              "    </tr>\n",
              "  </tbody>\n",
              "</table>\n",
              "<p>5 rows × 61 columns</p>\n",
              "</div>\n",
              "      <button class=\"colab-df-convert\" onclick=\"convertToInteractive('df-a37fdd3f-f2f4-47da-bb6c-279dfb507cde')\"\n",
              "              title=\"Convert this dataframe to an interactive table.\"\n",
              "              style=\"display:none;\">\n",
              "        \n",
              "  <svg xmlns=\"http://www.w3.org/2000/svg\" height=\"24px\"viewBox=\"0 0 24 24\"\n",
              "       width=\"24px\">\n",
              "    <path d=\"M0 0h24v24H0V0z\" fill=\"none\"/>\n",
              "    <path d=\"M18.56 5.44l.94 2.06.94-2.06 2.06-.94-2.06-.94-.94-2.06-.94 2.06-2.06.94zm-11 1L8.5 8.5l.94-2.06 2.06-.94-2.06-.94L8.5 2.5l-.94 2.06-2.06.94zm10 10l.94 2.06.94-2.06 2.06-.94-2.06-.94-.94-2.06-.94 2.06-2.06.94z\"/><path d=\"M17.41 7.96l-1.37-1.37c-.4-.4-.92-.59-1.43-.59-.52 0-1.04.2-1.43.59L10.3 9.45l-7.72 7.72c-.78.78-.78 2.05 0 2.83L4 21.41c.39.39.9.59 1.41.59.51 0 1.02-.2 1.41-.59l7.78-7.78 2.81-2.81c.8-.78.8-2.07 0-2.86zM5.41 20L4 18.59l7.72-7.72 1.47 1.35L5.41 20z\"/>\n",
              "  </svg>\n",
              "      </button>\n",
              "      \n",
              "  <style>\n",
              "    .colab-df-container {\n",
              "      display:flex;\n",
              "      flex-wrap:wrap;\n",
              "      gap: 12px;\n",
              "    }\n",
              "\n",
              "    .colab-df-convert {\n",
              "      background-color: #E8F0FE;\n",
              "      border: none;\n",
              "      border-radius: 50%;\n",
              "      cursor: pointer;\n",
              "      display: none;\n",
              "      fill: #1967D2;\n",
              "      height: 32px;\n",
              "      padding: 0 0 0 0;\n",
              "      width: 32px;\n",
              "    }\n",
              "\n",
              "    .colab-df-convert:hover {\n",
              "      background-color: #E2EBFA;\n",
              "      box-shadow: 0px 1px 2px rgba(60, 64, 67, 0.3), 0px 1px 3px 1px rgba(60, 64, 67, 0.15);\n",
              "      fill: #174EA6;\n",
              "    }\n",
              "\n",
              "    [theme=dark] .colab-df-convert {\n",
              "      background-color: #3B4455;\n",
              "      fill: #D2E3FC;\n",
              "    }\n",
              "\n",
              "    [theme=dark] .colab-df-convert:hover {\n",
              "      background-color: #434B5C;\n",
              "      box-shadow: 0px 1px 3px 1px rgba(0, 0, 0, 0.15);\n",
              "      filter: drop-shadow(0px 1px 2px rgba(0, 0, 0, 0.3));\n",
              "      fill: #FFFFFF;\n",
              "    }\n",
              "  </style>\n",
              "\n",
              "      <script>\n",
              "        const buttonEl =\n",
              "          document.querySelector('#df-a37fdd3f-f2f4-47da-bb6c-279dfb507cde button.colab-df-convert');\n",
              "        buttonEl.style.display =\n",
              "          google.colab.kernel.accessAllowed ? 'block' : 'none';\n",
              "\n",
              "        async function convertToInteractive(key) {\n",
              "          const element = document.querySelector('#df-a37fdd3f-f2f4-47da-bb6c-279dfb507cde');\n",
              "          const dataTable =\n",
              "            await google.colab.kernel.invokeFunction('convertToInteractive',\n",
              "                                                     [key], {});\n",
              "          if (!dataTable) return;\n",
              "\n",
              "          const docLinkHtml = 'Like what you see? Visit the ' +\n",
              "            '<a target=\"_blank\" href=https://colab.research.google.com/notebooks/data_table.ipynb>data table notebook</a>'\n",
              "            + ' to learn more about interactive tables.';\n",
              "          element.innerHTML = '';\n",
              "          dataTable['output_type'] = 'display_data';\n",
              "          await google.colab.output.renderOutput(dataTable, element);\n",
              "          const docLink = document.createElement('div');\n",
              "          docLink.innerHTML = docLinkHtml;\n",
              "          element.appendChild(docLink);\n",
              "        }\n",
              "      </script>\n",
              "    </div>\n",
              "  </div>\n",
              "  "
            ]
          },
          "metadata": {},
          "execution_count": 31
        }
      ]
    },
    {
      "cell_type": "markdown",
      "source": [
        "Acabamos aumentando nossa base de dados para 61 colunas, porém, serão retiradas da base todas as colunas que foram transformadas."
      ],
      "metadata": {
        "id": "jceew2p-W8WM"
      }
    },
    {
      "cell_type": "code",
      "source": [
        "dados.info()"
      ],
      "metadata": {
        "colab": {
          "base_uri": "https://localhost:8080/"
        },
        "id": "BgbybjpMXfZh",
        "outputId": "bff4bfd9-896a-4a2f-c8fc-9c5743736eb7"
      },
      "execution_count": null,
      "outputs": [
        {
          "output_type": "stream",
          "name": "stdout",
          "text": [
            "<class 'pandas.core.frame.DataFrame'>\n",
            "RangeIndex: 1470 entries, 0 to 1469\n",
            "Data columns (total 61 columns):\n",
            " #   Column                     Non-Null Count  Dtype \n",
            "---  ------                     --------------  ----- \n",
            " 0   Age                        1470 non-null   int64 \n",
            " 1   Attrition                  1470 non-null   object\n",
            " 2   BusinessTravel             1470 non-null   object\n",
            " 3   DailyRate                  1470 non-null   int64 \n",
            " 4   Department                 1470 non-null   object\n",
            " 5   DistanceFromHome           1470 non-null   int64 \n",
            " 6   Education                  1470 non-null   int64 \n",
            " 7   EducationField             1470 non-null   object\n",
            " 8   EmployeeCount              1470 non-null   int64 \n",
            " 9   EmployeeNumber             1470 non-null   int64 \n",
            " 10  EnvironmentSatisfaction    1470 non-null   int64 \n",
            " 11  Gender                     1470 non-null   object\n",
            " 12  HourlyRate                 1470 non-null   int64 \n",
            " 13  JobInvolvement             1470 non-null   int64 \n",
            " 14  JobLevel                   1470 non-null   int64 \n",
            " 15  JobRole                    1470 non-null   object\n",
            " 16  JobSatisfaction            1470 non-null   int64 \n",
            " 17  MaritalStatus              1470 non-null   object\n",
            " 18  MonthlyIncome              1470 non-null   int64 \n",
            " 19  MonthlyRate                1470 non-null   int64 \n",
            " 20  NumCompaniesWorked         1470 non-null   int64 \n",
            " 21  OverTime                   1470 non-null   object\n",
            " 22  PercentSalaryHike          1470 non-null   int64 \n",
            " 23  PerformanceRating          1470 non-null   int64 \n",
            " 24  RelationshipSatisfaction   1470 non-null   int64 \n",
            " 25  StandardHours              1470 non-null   int64 \n",
            " 26  StockOptionLevel           1470 non-null   int64 \n",
            " 27  TotalWorkingYears          1470 non-null   int64 \n",
            " 28  TrainingTimesLastYear      1470 non-null   int64 \n",
            " 29  WorkLifeBalance            1470 non-null   int64 \n",
            " 30  YearsAtCompany             1470 non-null   int64 \n",
            " 31  YearsInCurrentRole         1470 non-null   int64 \n",
            " 32  YearsSinceLastPromotion    1470 non-null   int64 \n",
            " 33  YearsWithCurrManager       1470 non-null   int64 \n",
            " 34  turnover                   1470 non-null   int64 \n",
            " 35  Travel_Rarely              1470 non-null   uint8 \n",
            " 36  Travel_Frequently          1470 non-null   uint8 \n",
            " 37  Non-Travel                 1470 non-null   uint8 \n",
            " 38  Sales                      1470 non-null   uint8 \n",
            " 39  Research & Development     1470 non-null   uint8 \n",
            " 40  Human Resources            1470 non-null   uint8 \n",
            " 41  Life Sciences              1470 non-null   uint8 \n",
            " 42  Other                      1470 non-null   uint8 \n",
            " 43  Medical                    1470 non-null   uint8 \n",
            " 44  Marketing                  1470 non-null   uint8 \n",
            " 45  Technical Degree           1470 non-null   uint8 \n",
            " 46  Female                     1470 non-null   uint8 \n",
            " 47  Male                       1470 non-null   uint8 \n",
            " 48  Sales Executive            1470 non-null   uint8 \n",
            " 49  Research Scientist         1470 non-null   uint8 \n",
            " 50  Laboratory Technician      1470 non-null   uint8 \n",
            " 51  Manufacturing Director     1470 non-null   uint8 \n",
            " 52  Healthcare Representative  1470 non-null   uint8 \n",
            " 53  Manager                    1470 non-null   uint8 \n",
            " 54  Sales Representative       1470 non-null   uint8 \n",
            " 55  Research Director          1470 non-null   uint8 \n",
            " 56  Single                     1470 non-null   uint8 \n",
            " 57  Married                    1470 non-null   uint8 \n",
            " 58  Divorced                   1470 non-null   uint8 \n",
            " 59  Yes                        1470 non-null   uint8 \n",
            " 60  No                         1470 non-null   uint8 \n",
            "dtypes: int64(27), object(8), uint8(26)\n",
            "memory usage: 439.4+ KB\n"
          ]
        }
      ]
    },
    {
      "cell_type": "markdown",
      "source": [
        "#Exercicio 1. (2 pontos)\n",
        "- Realize uma análise sobre as variáveis independentes em relação a variável turnover. Quais ideias você obteve? Faça uma pequena apresentação de três a quatro gráficos e escreva suas percepções abaixo de cada um."
      ],
      "metadata": {
        "id": "UU8dCE380VkM"
      }
    },
    {
      "cell_type": "markdown",
      "source": [
        "- Vamos começar o entendimento do dataset através da quantidade de empregados classificados na coluna \"turnover\" como 1(sim) e como 0(não), onde o 1 representa as possíveis saídas da empresa e 0 os funcionários que no momento não apresentam características que deixariam a empresa."
      ],
      "metadata": {
        "id": "NN1ylVVX9R_J"
      }
    },
    {
      "cell_type": "code",
      "source": [
        "graf_turnover = dados['turnover'].value_counts()"
      ],
      "metadata": {
        "id": "mOiL3LFR9sc9"
      },
      "execution_count": null,
      "outputs": []
    },
    {
      "cell_type": "code",
      "source": [
        "graf_turnover"
      ],
      "metadata": {
        "colab": {
          "base_uri": "https://localhost:8080/"
        },
        "id": "P2VlSt7NB4ne",
        "outputId": "08096278-b2ce-4d1e-95bf-168c077cbf2a"
      },
      "execution_count": null,
      "outputs": [
        {
          "output_type": "execute_result",
          "data": {
            "text/plain": [
              "0    1233\n",
              "1     237\n",
              "Name: turnover, dtype: int64"
            ]
          },
          "metadata": {},
          "execution_count": 34
        }
      ]
    },
    {
      "cell_type": "code",
      "source": [
        "graf_turnover = dados['turnover'].value_counts()\n",
        "\n",
        "plt.figure(figsize=(12,5))\n",
        "\n",
        "plt.pie(graf_turnover,labels=['Não','Sim'], autopct='%.2f') \n",
        "plt.title('Possíveis Saídas de Empregados', fontsize=12) "
      ],
      "metadata": {
        "colab": {
          "base_uri": "https://localhost:8080/",
          "height": 337
        },
        "id": "xdZ2WjO79whn",
        "outputId": "a1a924a0-e025-4858-99a1-37648af25e9e"
      },
      "execution_count": null,
      "outputs": [
        {
          "output_type": "execute_result",
          "data": {
            "text/plain": [
              "Text(0.5, 1.0, 'Possíveis Saídas de Empregados')"
            ]
          },
          "metadata": {},
          "execution_count": 35
        },
        {
          "output_type": "display_data",
          "data": {
            "text/plain": [
              "<Figure size 864x360 with 1 Axes>"
            ],
            "image/png": "[encoded data removed]"
          },
          "metadata": {}
        }
      ]
    },
    {
      "cell_type": "markdown",
      "source": [
        "- Como podemos ver, temos quase 84% dos funcionários classificados como \"0\"(não), que no momento não tem previsão de sair da empresa, porém, temos em torno de 16% de funcionários que a previsão é que deixem a empresa a qualquer momento.\n",
        "\n",
        "- Importante ressaltar que estes números sozinhos não nos trazem nenhuma análise profunda, porem estes nos trazem alguns questionamentos.\n",
        "\n",
        "1. Dentre estes 16%, quais deles tem bastante tempo de empresa?\n",
        "2. Qual a classificação dos funcionários que tem os salários mais altos, pretendem ou não sair da empresa.\n",
        "3. Temos uma coluna chamada satisfação do funcionário em trabalhar na empresa, qual a relação com estes números apresentados?\n",
        "4. De acordo com o nível do cargo, temos mais pessoas com nível alto entre estes 16% ou com nível baixo?\n",
        "\n",
        "- São questionamentos que nos fazem refletir e buscar mais informações sobre este dataset."
      ],
      "metadata": {
        "id": "MKPcVRKnAB8s"
      }
    },
    {
      "cell_type": "markdown",
      "source": [
        "- Para responder as perguntas feitas acima, vamos ver alguns gráficos:"
      ],
      "metadata": {
        "id": "khohdr-mElX3"
      }
    },
    {
      "cell_type": "code",
      "source": [
        "#criando variavel somente 16% que tem previsão de sair da empresa\n",
        "turnover_sim = dados[dados['turnover'] == 1]"
      ],
      "metadata": {
        "id": "jcsuAoLmEtZc"
      },
      "execution_count": null,
      "outputs": []
    },
    {
      "cell_type": "code",
      "source": [
        "plt.figure(figsize=(16,10))\n",
        "\n",
        "plt.subplot(1, 2, 1)\n",
        "plt.hist(dados['YearsAtCompany'])\n",
        "plt.title('Todos Todos Funcionários', loc='left', fontsize=18)\n",
        "plt.xlabel('Anos de Empresa'.upper(), fontsize=14)\n",
        "plt.ylabel('Funcionários'.upper(), fontsize=14)\n",
        "\n",
        "plt.subplot(1, 2, 2) \n",
        "plt.hist(turnover_sim['YearsAtCompany'])   \n",
        "plt.title('Funcionários classificados como SIM', loc='left', fontsize=18)\n",
        "plt.xlabel('Anos de Empresa'.upper(), fontsize=14)\n",
        "plt.ylabel('Funcionários'.upper(), fontsize=14)\n",
        "plt.show()"
      ],
      "metadata": {
        "colab": {
          "base_uri": "https://localhost:8080/",
          "height": 629
        },
        "id": "Z_aFKCs7FPcq",
        "outputId": "ebdcd8be-b456-411e-d88f-86d755ed2d17"
      },
      "execution_count": null,
      "outputs": [
        {
          "output_type": "display_data",
          "data": {
            "text/plain": [
              "<Figure size 1152x720 with 2 Axes>"
            ],
            "image/png": "[encoded data removed]"
          },
          "metadata": {
            "needs_background": "light"
          }
        }
      ]
    },
    {
      "cell_type": "markdown",
      "source": [
        "- Através do gráfico histograma conseguimos ver o tempo de empresa dos funcionários, constatamos que proporcionalmente não tem muita relação das pessoas com mais tempo de empresa no quesito de querer ficar ou de querer sair. "
      ],
      "metadata": {
        "id": "NZeuT0PMLxmz"
      }
    },
    {
      "cell_type": "markdown",
      "source": [
        "- Também podemos olhar as pessoas que tem os salários mais altos, vamos ver q tipo de relação encontramos."
      ],
      "metadata": {
        "id": "9wiAu9yvW4A0"
      }
    },
    {
      "cell_type": "code",
      "source": [
        "sns.set_style('darkgrid')\n",
        "\n",
        "plt.figure(figsize=[8,4])\n",
        "plt.scatter(dados['MonthlyIncome'], dados['turnover'],s=10)  \n",
        "plt.title('Gráfico de Dispersão - Salário Mensal X Turnover', fontsize=12)\n",
        "plt.xlabel('Salário Mensal'.upper(), fontsize=10)\n",
        "plt.ylabel('Turnover'.upper(), fontsize=10)\n",
        "plt.grid(color='white')\n",
        "plt.show()"
      ],
      "metadata": {
        "colab": {
          "base_uri": "https://localhost:8080/",
          "height": 295
        },
        "id": "C8-ZY0yJXH61",
        "outputId": "e9009465-47f1-40f2-a15a-64f62fc9ccda"
      },
      "execution_count": null,
      "outputs": [
        {
          "output_type": "display_data",
          "data": {
            "text/plain": [
              "<Figure size 576x288 with 1 Axes>"
            ],
            "image/png": "[encoded data removed]"
          },
          "metadata": {}
        }
      ]
    },
    {
      "cell_type": "markdown",
      "source": [
        "- O que já era possível prever, podemos ver no gráfico de dispersão acima que são pouquíssimos os casos de pessoas que ganham um alto salário e pretendem deixar a empresa. A maioria dos casos de pessoas que querem sair da empresa se concentram nos salários abaixo de 10.000 dólares."
      ],
      "metadata": {
        "id": "HkIGHJSmXtDj"
      }
    },
    {
      "cell_type": "code",
      "source": [
        "plt.figure(figsize=(12,4))\n",
        "plt.hist(turnover_sim['MonthlyIncome'])   \n",
        "plt.title('Funcionários classificados como SIM', loc='left', fontsize=18)\n",
        "plt.xlabel('Salário Mensal'.upper(), fontsize=14)\n",
        "plt.ylabel('Funcionários'.upper(), fontsize=14)\n",
        "plt.show()"
      ],
      "metadata": {
        "colab": {
          "base_uri": "https://localhost:8080/",
          "height": 303
        },
        "id": "O8FemuS4YOEU",
        "outputId": "01d722e3-1dcd-4d25-9750-348dec3fd97e"
      },
      "execution_count": null,
      "outputs": [
        {
          "output_type": "display_data",
          "data": {
            "text/plain": [
              "<Figure size 864x288 with 1 Axes>"
            ],
            "image/png": "[encoded data removed]"
          },
          "metadata": {}
        }
      ]
    },
    {
      "cell_type": "markdown",
      "source": [
        "- Aqui outra maneira que visualizar que e maioria se concentra nos salários mais baixos."
      ],
      "metadata": {
        "id": "R2ufCtpZYaMb"
      }
    },
    {
      "cell_type": "markdown",
      "source": [
        "- Para continuar nossa análise, vamos olhar agora para o nível de satisfação com o cargo, onde temos 4 níveis, 4 sendo muito satisfeito e 1 sendo pouco satisfeito. "
      ],
      "metadata": {
        "id": "l_LhAXURZtfs"
      }
    },
    {
      "cell_type": "code",
      "source": [
        "plt.figure(figsize=(16,4))\n",
        "\n",
        "plt.subplot(1, 2, 1)\n",
        "plt.hist(dados['JobSatisfaction'], bins =4)   \n",
        "plt.title('Todos Funcionários', fontsize=18)\n",
        "plt.xlabel('Nível de Satisfação com o cargo'.upper(), fontsize=14)\n",
        "plt.ylabel('Funcionários'.upper(), fontsize=14)\n",
        "\n",
        "plt.subplot(1, 2, 2)\n",
        "plt.hist(turnover_sim['JobSatisfaction'],bins =4)   \n",
        "plt.title('Funcionários classificados como SIM', fontsize=18)\n",
        "plt.xlabel('Nível de Satisfação com o cargo'.upper(), fontsize=14)\n",
        "plt.ylabel('Funcionários'.upper(), fontsize=14)\n",
        "plt.show()"
      ],
      "metadata": {
        "colab": {
          "base_uri": "https://localhost:8080/",
          "height": 305
        },
        "id": "GiL2Nej-YzyV",
        "outputId": "28275b92-351e-48e8-bfe9-27927f30d639"
      },
      "execution_count": null,
      "outputs": [
        {
          "output_type": "display_data",
          "data": {
            "text/plain": [
              "<Figure size 1152x288 with 2 Axes>"
            ],
            "image/png": "[encoded data removed]"
          },
          "metadata": {}
        }
      ]
    },
    {
      "cell_type": "markdown",
      "source": [
        "- Para nossa surpresa, este foi um indicador que não teve muita relação com o nosso \"Turnover\", esperávamos que esta relação teria mais impacto numa futura predição. \n",
        "- Por incrível que pareça, nos classificados como \"sim\", a maioria teve o nível de satisfação classificado como \"3\", o que é considerado que o funcionário esta satisfeito com o seu cargo na empresa.  "
      ],
      "metadata": {
        "id": "xpbnu5MUXb2P"
      }
    },
    {
      "cell_type": "markdown",
      "source": [
        "- Para continuar nossa análise, vamos olhar os funcionários com os cargos de níveis mais altos para saber se conseguimos perceber uma relação entre estes."
      ],
      "metadata": {
        "id": "iY6IGb9PCN8J"
      }
    },
    {
      "cell_type": "code",
      "source": [
        "plt.figure(figsize=(16,4))\n",
        "\n",
        "plt.subplot(1, 2, 1)\n",
        "plt.hist(dados['JobLevel'],bins =5)   \n",
        "plt.title('Todos Funcionários', fontsize=18)\n",
        "plt.xlabel('Nível de Satisfação com o cargo'.upper(), fontsize=14)\n",
        "plt.ylabel('Funcionários'.upper(), fontsize=14)\n",
        "\n",
        "plt.subplot(1, 2, 2)\n",
        "plt.hist(turnover_sim['JobLevel'],bins =5)   \n",
        "plt.title('Funcionários classificados como SIM', fontsize=18)\n",
        "plt.xlabel('Nível de Satisfação com o cargo'.upper(), fontsize=14)\n",
        "plt.ylabel('Funcionários'.upper(), fontsize=14)\n",
        "plt.show()"
      ],
      "metadata": {
        "colab": {
          "base_uri": "https://localhost:8080/",
          "height": 305
        },
        "id": "9r7Vb_SdbYyK",
        "outputId": "490c5e9d-d420-42b2-db13-62adb85ab659"
      },
      "execution_count": null,
      "outputs": [
        {
          "output_type": "display_data",
          "data": {
            "text/plain": [
              "<Figure size 1152x288 with 2 Axes>"
            ],
            "image/png": "[encoded data removed]"
          },
          "metadata": {}
        }
      ]
    },
    {
      "cell_type": "markdown",
      "source": [
        "E sim, esta vez o esperado se confirmou, os funcionários com os cargos mais altos tendem a não sair da empresa, a grande maioria das pessoas que querem ou de alguma forma demonstraram interesse em não continuar na empresa, estão classificados com nível 1."
      ],
      "metadata": {
        "id": "or3qDhKCbmA4"
      }
    },
    {
      "cell_type": "markdown",
      "source": [
        "#Exercicio 2. (1 ponto)\n",
        "Faça seleção de características e selecione as 8 variáveis mais importantes. Escreva quais são elas e destaque as variáveis que estão presentes nas ideias apresentadas no exercício 1."
      ],
      "metadata": {
        "id": "bQnVG_-DcOWR"
      }
    },
    {
      "cell_type": "markdown",
      "source": [
        "Para escolher e selecionar as 8 variáveis mais importantes vamos usar o método de classificação da RandomForest:"
      ],
      "metadata": {
        "id": "Vibw2NNl8ntM"
      }
    },
    {
      "cell_type": "code",
      "source": [
        "#sepando o dado em X e y\n",
        "X = dados.drop(['Attrition','turnover','BusinessTravel','Department','OverTime','MaritalStatus','JobRole','Gender','EducationField'], axis=1)\n",
        "y = dados['turnover']  "
      ],
      "metadata": {
        "id": "ovYwgansqw2z"
      },
      "execution_count": null,
      "outputs": []
    },
    {
      "cell_type": "code",
      "source": [
        "# Separar o dado em conjunto de treinamento e teste\n",
        "X_train, X_test, y_train, y_test = train_test_split(X, y, test_size = 0.2, random_state=10)"
      ],
      "metadata": {
        "id": "tIpodXbmqtdt"
      },
      "execution_count": null,
      "outputs": []
    },
    {
      "cell_type": "code",
      "source": [
        "#usando o método do RandomForest para encontrar a ordem das variaveis mais importantes\n",
        "rf = RandomForestClassifier(random_state=10, n_estimators=200)\n",
        "rf.fit(X_train, y_train)\n",
        "importances = rf.feature_importances_\n",
        "print(np.argsort(importances)[::-1])"
      ],
      "metadata": {
        "colab": {
          "base_uri": "https://localhost:8080/"
        },
        "id": "DHAUiYgkpWkP",
        "outputId": "48eee7c8-8ba9-4026-8658-cbb0e994f111"
      },
      "execution_count": null,
      "outputs": [
        {
          "output_type": "stream",
          "name": "stdout",
          "text": [
            "[11  0  1  5  2 19 12  7 22 14 13 10 50  6 51 18 25 20  8 21 23 24  9 16\n",
            "  3 47 27 41 38 30 35 29 48 34 40 39 32 26 36 37 45 49 15 28 31 42 43 33\n",
            " 44 46  4 17]\n"
          ]
        }
      ]
    },
    {
      "cell_type": "markdown",
      "source": [
        "Encontramos as 8 variáveis mais importantes, de acordo com o método usado: \n",
        "- MonthlyIncome - renda mensal, valor recebido pelo funcionário\n",
        "- Age - Idade\n",
        "- DailyRate - Diárias\n",
        "- EmployeeNumber - Número do funcionário\n",
        "- DistanceFromHome - Distância de casa\n",
        "- TotalWorkingYears - Anos de trabalho\n",
        "- MonthlyRate - pagamento mensal, valor que a empresa desembolsa para o funcionário\n",
        "- HourlyRate - valor da hora trabalhada"
      ],
      "metadata": {
        "id": "9wd9Tbwv3-I6"
      }
    },
    {
      "cell_type": "code",
      "source": [
        "X_novo = X.iloc[:,[11,0,1,5,2,19,12,7]]"
      ],
      "metadata": {
        "id": "5mfCeYsS3Fwa"
      },
      "execution_count": null,
      "outputs": []
    },
    {
      "cell_type": "code",
      "source": [
        "X_novo.head()"
      ],
      "metadata": {
        "colab": {
          "base_uri": "https://localhost:8080/",
          "height": 206
        },
        "id": "XrwGs44a6CGS",
        "outputId": "326c9d28-6ae6-4a17-c555-cf93864000b9"
      },
      "execution_count": null,
      "outputs": [
        {
          "output_type": "execute_result",
          "data": {
            "text/plain": [
              "   MonthlyIncome  Age  DailyRate  EmployeeNumber  DistanceFromHome  \\\n",
              "0           5993   41       1102               1                 1   \n",
              "1           5130   49        279               2                 8   \n",
              "2           2090   37       1373               4                 2   \n",
              "3           2909   33       1392               5                 3   \n",
              "4           3468   27        591               7                 2   \n",
              "\n",
              "   TotalWorkingYears  MonthlyRate  HourlyRate  \n",
              "0                  8        19479          94  \n",
              "1                 10        24907          61  \n",
              "2                  7         2396          92  \n",
              "3                  8        23159          56  \n",
              "4                  6        16632          40  "
            ],
            "text/html": [
              "\n",
              "  <div id=\"df-0e80d285-ed71-4581-9d56-7361b77d5ba6\">\n",
              "    <div class=\"colab-df-container\">\n",
              "      <div>\n",
              "<style scoped>\n",
              "    .dataframe tbody tr th:only-of-type {\n",
              "        vertical-align: middle;\n",
              "    }\n",
              "\n",
              "    .dataframe tbody tr th {\n",
              "        vertical-align: top;\n",
              "    }\n",
              "\n",
              "    .dataframe thead th {\n",
              "        text-align: right;\n",
              "    }\n",
              "</style>\n",
              "<table border=\"1\" class=\"dataframe\">\n",
              "  <thead>\n",
              "    <tr style=\"text-align: right;\">\n",
              "      <th></th>\n",
              "      <th>MonthlyIncome</th>\n",
              "      <th>Age</th>\n",
              "      <th>DailyRate</th>\n",
              "      <th>EmployeeNumber</th>\n",
              "      <th>DistanceFromHome</th>\n",
              "      <th>TotalWorkingYears</th>\n",
              "      <th>MonthlyRate</th>\n",
              "      <th>HourlyRate</th>\n",
              "    </tr>\n",
              "  </thead>\n",
              "  <tbody>\n",
              "    <tr>\n",
              "      <th>0</th>\n",
              "      <td>5993</td>\n",
              "      <td>41</td>\n",
              "      <td>1102</td>\n",
              "      <td>1</td>\n",
              "      <td>1</td>\n",
              "      <td>8</td>\n",
              "      <td>19479</td>\n",
              "      <td>94</td>\n",
              "    </tr>\n",
              "    <tr>\n",
              "      <th>1</th>\n",
              "      <td>5130</td>\n",
              "      <td>49</td>\n",
              "      <td>279</td>\n",
              "      <td>2</td>\n",
              "      <td>8</td>\n",
              "      <td>10</td>\n",
              "      <td>24907</td>\n",
              "      <td>61</td>\n",
              "    </tr>\n",
              "    <tr>\n",
              "      <th>2</th>\n",
              "      <td>2090</td>\n",
              "      <td>37</td>\n",
              "      <td>1373</td>\n",
              "      <td>4</td>\n",
              "      <td>2</td>\n",
              "      <td>7</td>\n",
              "      <td>2396</td>\n",
              "      <td>92</td>\n",
              "    </tr>\n",
              "    <tr>\n",
              "      <th>3</th>\n",
              "      <td>2909</td>\n",
              "      <td>33</td>\n",
              "      <td>1392</td>\n",
              "      <td>5</td>\n",
              "      <td>3</td>\n",
              "      <td>8</td>\n",
              "      <td>23159</td>\n",
              "      <td>56</td>\n",
              "    </tr>\n",
              "    <tr>\n",
              "      <th>4</th>\n",
              "      <td>3468</td>\n",
              "      <td>27</td>\n",
              "      <td>591</td>\n",
              "      <td>7</td>\n",
              "      <td>2</td>\n",
              "      <td>6</td>\n",
              "      <td>16632</td>\n",
              "      <td>40</td>\n",
              "    </tr>\n",
              "  </tbody>\n",
              "</table>\n",
              "</div>\n",
              "      <button class=\"colab-df-convert\" onclick=\"convertToInteractive('df-0e80d285-ed71-4581-9d56-7361b77d5ba6')\"\n",
              "              title=\"Convert this dataframe to an interactive table.\"\n",
              "              style=\"display:none;\">\n",
              "        \n",
              "  <svg xmlns=\"http://www.w3.org/2000/svg\" height=\"24px\"viewBox=\"0 0 24 24\"\n",
              "       width=\"24px\">\n",
              "    <path d=\"M0 0h24v24H0V0z\" fill=\"none\"/>\n",
              "    <path d=\"M18.56 5.44l.94 2.06.94-2.06 2.06-.94-2.06-.94-.94-2.06-.94 2.06-2.06.94zm-11 1L8.5 8.5l.94-2.06 2.06-.94-2.06-.94L8.5 2.5l-.94 2.06-2.06.94zm10 10l.94 2.06.94-2.06 2.06-.94-2.06-.94-.94-2.06-.94 2.06-2.06.94z\"/><path d=\"M17.41 7.96l-1.37-1.37c-.4-.4-.92-.59-1.43-.59-.52 0-1.04.2-1.43.59L10.3 9.45l-7.72 7.72c-.78.78-.78 2.05 0 2.83L4 21.41c.39.39.9.59 1.41.59.51 0 1.02-.2 1.41-.59l7.78-7.78 2.81-2.81c.8-.78.8-2.07 0-2.86zM5.41 20L4 18.59l7.72-7.72 1.47 1.35L5.41 20z\"/>\n",
              "  </svg>\n",
              "      </button>\n",
              "      \n",
              "  <style>\n",
              "    .colab-df-container {\n",
              "      display:flex;\n",
              "      flex-wrap:wrap;\n",
              "      gap: 12px;\n",
              "    }\n",
              "\n",
              "    .colab-df-convert {\n",
              "      background-color: #E8F0FE;\n",
              "      border: none;\n",
              "      border-radius: 50%;\n",
              "      cursor: pointer;\n",
              "      display: none;\n",
              "      fill: #1967D2;\n",
              "      height: 32px;\n",
              "      padding: 0 0 0 0;\n",
              "      width: 32px;\n",
              "    }\n",
              "\n",
              "    .colab-df-convert:hover {\n",
              "      background-color: #E2EBFA;\n",
              "      box-shadow: 0px 1px 2px rgba(60, 64, 67, 0.3), 0px 1px 3px 1px rgba(60, 64, 67, 0.15);\n",
              "      fill: #174EA6;\n",
              "    }\n",
              "\n",
              "    [theme=dark] .colab-df-convert {\n",
              "      background-color: #3B4455;\n",
              "      fill: #D2E3FC;\n",
              "    }\n",
              "\n",
              "    [theme=dark] .colab-df-convert:hover {\n",
              "      background-color: #434B5C;\n",
              "      box-shadow: 0px 1px 3px 1px rgba(0, 0, 0, 0.15);\n",
              "      filter: drop-shadow(0px 1px 2px rgba(0, 0, 0, 0.3));\n",
              "      fill: #FFFFFF;\n",
              "    }\n",
              "  </style>\n",
              "\n",
              "      <script>\n",
              "        const buttonEl =\n",
              "          document.querySelector('#df-0e80d285-ed71-4581-9d56-7361b77d5ba6 button.colab-df-convert');\n",
              "        buttonEl.style.display =\n",
              "          google.colab.kernel.accessAllowed ? 'block' : 'none';\n",
              "\n",
              "        async function convertToInteractive(key) {\n",
              "          const element = document.querySelector('#df-0e80d285-ed71-4581-9d56-7361b77d5ba6');\n",
              "          const dataTable =\n",
              "            await google.colab.kernel.invokeFunction('convertToInteractive',\n",
              "                                                     [key], {});\n",
              "          if (!dataTable) return;\n",
              "\n",
              "          const docLinkHtml = 'Like what you see? Visit the ' +\n",
              "            '<a target=\"_blank\" href=https://colab.research.google.com/notebooks/data_table.ipynb>data table notebook</a>'\n",
              "            + ' to learn more about interactive tables.';\n",
              "          element.innerHTML = '';\n",
              "          dataTable['output_type'] = 'display_data';\n",
              "          await google.colab.output.renderOutput(dataTable, element);\n",
              "          const docLink = document.createElement('div');\n",
              "          docLink.innerHTML = docLinkHtml;\n",
              "          element.appendChild(docLink);\n",
              "        }\n",
              "      </script>\n",
              "    </div>\n",
              "  </div>\n",
              "  "
            ]
          },
          "metadata": {},
          "execution_count": 46
        }
      ]
    },
    {
      "cell_type": "markdown",
      "source": [
        "Analisando as variáveis selecionadas pelo método como as mais importantes, a que mais chama atenção é \"EmployeeNumber\", pois o que tudo indica esta variável representa o código do funcionário. A hipótese que mais plausível é que este número tem relação com o tempo de trabalho do funcionário na empresa."
      ],
      "metadata": {
        "id": "1NlpGA5I6NAm"
      }
    },
    {
      "cell_type": "code",
      "source": [
        "sns.set_style('darkgrid')\n",
        "\n",
        "plt.figure(figsize=[8,4])\n",
        "plt.scatter(dados['YearsAtCompany'], dados['EmployeeNumber'],s=10)  \n",
        "plt.title('Gráfico de Dispersão - Anos na Empresa X Número do Empregado', fontsize=12)\n",
        "plt.xlabel('Anos de Empresa'.upper(), fontsize=10)\n",
        "plt.ylabel('Número do Empregado'.upper(), fontsize=10)\n",
        "plt.grid(color='white')\n",
        "plt.show()"
      ],
      "metadata": {
        "colab": {
          "base_uri": "https://localhost:8080/",
          "height": 295
        },
        "id": "nXT-2eAx6rQs",
        "outputId": "27807ab9-d242-4897-cf85-3dcf42b828d7"
      },
      "execution_count": null,
      "outputs": [
        {
          "output_type": "display_data",
          "data": {
            "text/plain": [
              "<Figure size 576x288 with 1 Axes>"
            ],
            "image/png": "[encoded data removed]"
          },
          "metadata": {}
        }
      ]
    },
    {
      "cell_type": "markdown",
      "source": [
        "Olhando para o gráfico fica comprovado que a tese levantada anteriormente não faz muito sentido, então tentaremos mais para frente entender melhor esta variável e saber o por que ela esta entre as mais importantes."
      ],
      "metadata": {
        "id": "R500xUZk7dBZ"
      }
    },
    {
      "cell_type": "markdown",
      "source": [
        "#Exercicio 3. (2 pontos)\n",
        "Construa um modelo de árvore de decisão. Obtenha os valores das métricas: acurácia, precisão e sensitividade."
      ],
      "metadata": {
        "id": "GSarHb7s7-Vj"
      }
    },
    {
      "cell_type": "code",
      "source": [
        "# Separar o dado em conjunto de treinamento e teste\n",
        "X_train, X_test, y_train, y_test = train_test_split(X_novo, y, test_size = 0.21, random_state=10)"
      ],
      "metadata": {
        "id": "kj_Z3mkc90d0"
      },
      "execution_count": null,
      "outputs": []
    },
    {
      "cell_type": "code",
      "source": [
        "# Modelo\n",
        "dt = DecisionTreeClassifier(max_leaf_nodes = 6)\n",
        "dt.fit(X_train, y_train)\n",
        "y_pred = dt.predict(X_test)\n",
        "\n",
        "#métricas\n",
        "print('Acurácia:', accuracy_score(y_test, y_pred))\n",
        "print('Precisão:',precision_score(y_test, y_pred, average='macro'))\n",
        "print('Sensitividade:',recall_score(y_test, y_pred, average='macro'))"
      ],
      "metadata": {
        "colab": {
          "base_uri": "https://localhost:8080/"
        },
        "id": "AfNoPQq48DuU",
        "outputId": "ce9af2a4-c8aa-4661-b0ea-b5d35685624d"
      },
      "execution_count": null,
      "outputs": [
        {
          "output_type": "stream",
          "name": "stdout",
          "text": [
            "Acurácia: 0.8381877022653722\n",
            "Precisão: 0.8285539963392312\n",
            "Sensitividade: 0.5749791144527987\n"
          ]
        }
      ]
    },
    {
      "cell_type": "markdown",
      "source": [
        "Fazendo testes chegamos ao nó máximo de 6, foi onde encontramos o melhor equilíbrio entre as métricas.\n"
      ],
      "metadata": {
        "id": "-IwmlDasPlST"
      }
    },
    {
      "cell_type": "markdown",
      "source": [
        "Apesar de muitas vezes não termos certeza das variáveis que estamos trabalhando os métodos e modelos nos ajudam a chegar num resultado razoavelmente bom, porém, o indicado é sempre trabalhar com especialistas por perto para facilitar o entendimento."
      ],
      "metadata": {
        "id": "FVznAbbFbInP"
      }
    },
    {
      "cell_type": "markdown",
      "source": [
        "Exercicio 4. (1 ponto)\n",
        "Faça a representação da árvore e observe como foi realizado cada ramificação. Explique o que é GINI e quais seriam as desvantagens?"
      ],
      "metadata": {
        "id": "TOpAE8He-D0M"
      }
    },
    {
      "cell_type": "code",
      "source": [
        "plt.figure(figsize = [20,8])\n",
        "names = X_novo.columns\n",
        "plot_tree(dt,filled=True, fontsize=10, feature_names= names)\n",
        "plt.show"
      ],
      "metadata": {
        "colab": {
          "base_uri": "https://localhost:8080/",
          "height": 484
        },
        "id": "PTZ4cB2H-DKg",
        "outputId": "c5da6c3e-82d5-4820-f7fb-c91994403e88"
      },
      "execution_count": null,
      "outputs": [
        {
          "output_type": "execute_result",
          "data": {
            "text/plain": [
              "<function matplotlib.pyplot.show>"
            ]
          },
          "metadata": {},
          "execution_count": 50
        },
        {
          "output_type": "display_data",
          "data": {
            "text/plain": [
              "<Figure size 1440x576 with 1 Axes>"
            ],
            "image/png": "[encoded data removed]"
          },
          "metadata": {}
        }
      ]
    },
    {
      "cell_type": "markdown",
      "source": [
        "- Pelo Fato de termos limitado o número de nós, conseguimos plotar uma árvore de fácil visualização, onde podemos olhar todos os nós e compreender as escolhas feitas pelo modelo.\n",
        "- Neste nosso modelo usamos o critério *defaut*, o índice Gini, que considera divisões binárias para cada atributo. Deve-se examinar todos os possíveis subconjuntos que podem ser formados usando os valores conhecidos de um atributo, para determinar a melhor divisãoo para aquele atributo.\n",
        "- O índice Gini mede o grau de heterogeneidade dos dados. Logo, pode ser utilizado para medir a impureza de um nó. Quando este índice é igual a zero, o nó é puro. Por outro lado, quando ele se aproxima do valor um, o nó é impuro (aumenta o número de classes uniformemente distribuídas neste nó). \n",
        "- Quando, nas árvores de classificação com partições binárias, se utiliza o\n",
        "critério de Gini tende-se a isolar num ramo os registros que representam a classe mais frequente. Quando se utiliza a entropia, balanceia-se o número de registros em cada ramo. "
      ],
      "metadata": {
        "id": "IN84pGZ4PR7a"
      }
    },
    {
      "cell_type": "markdown",
      "source": [
        "#Exercicio 5. (3 pontos)\n",
        "Chamamos de overfitting (superajuste) a situação onde um modelo \"decora\" como predizer o conjunto de treino, mas tende a errar muito ao predizer o conjunto de teste. Dizemos que este modelo não generaliza, não consegue lidar com dados novos. Vimos dois modelos de diferentes estrategias de aprendizado por agrupamento durante as aulas. Qual destes modelos tem maior chance de sofrer um overfitting e por quê?"
      ],
      "metadata": {
        "id": "-CSH6Qm7UttS"
      }
    },
    {
      "cell_type": "markdown",
      "source": [
        "- Os modelos vistos em aula foram os \"baggin\" e o \"boosting\", porem o \"boosting\" é o que tem maiores chances de ocorrer *overfitting*. Esse trabalha com hipóteses sucessivas, tentando melhorar elas a cada hipótese criada, aprendendo com os erros e fazendo com que os mesmos sejam classificados corretamente nas hipóteses seguintes. Com isso o modelo fica muito ajustado aos dados de treino e quando são confrontados com os dados de teste acabam errando muito. Desta maneira ocorre o *overfitting* ao final dos treinamentos.\n"
      ],
      "metadata": {
        "id": "ms3RJlbhbr4M"
      }
    },
    {
      "cell_type": "markdown",
      "source": [
        "#Exercicio 6. (1 ponto)\n",
        "Você recomendaria o seu modelo para uma empresa utilizar em seu setor de Recursos Humanos? Como você explicaria para um setor que não possui conhecimento algum sobre Ciência de Dados que um modelo com 100% de acurácia é impossível de se obter?"
      ],
      "metadata": {
        "id": "CxdykqeMU6A7"
      }
    },
    {
      "cell_type": "markdown",
      "source": [
        "Sim, com toda certeza recomendaria, porem com algumas ressalvas, este seria apenas a primeira versão do modelo, poderíamos fazer ajustes específicos no banco de dados para aquela empresa em si, adapta-lo ao seu ambiente. Procurar interessados do setor, alguém com conhecimento, de preferência um especialista para analisarmos juntos possíveis melhorias. Outro ponto importante é explicar que um modelo nunca será 100% perfeito, trabalhamos com inúmeras variáveis e as pessoas muitas vezes são imprevisíveis, com toda a certeza teriamos casos \"fora da curva\" que deveríamos prestar atenção. Para esses casos, poderia ser criado algum tipo de conversa de tempos em tempos com os funcionários, fazer acompanhamentos, o ideal é criar estratégias que sejam trabalhadas juntamente com o modelo."
      ],
      "metadata": {
        "id": "tbGBwqPmk9My"
      }
    }
  ]
}